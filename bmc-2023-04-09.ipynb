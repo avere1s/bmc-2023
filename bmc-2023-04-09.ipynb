{
 "cells": [
  {
   "attachments": {},
   "cell_type": "markdown",
   "metadata": {},
   "source": [
    "## Problem #1\n",
    "\n",
    "- FY is the number of yellow triangles\n",
    "- FW is the number of white triangles\n",
    "- FT is the total number of yellow and white triangles"
   ]
  },
  {
   "cell_type": "code",
   "execution_count": 16,
   "metadata": {},
   "outputs": [],
   "source": [
    "import pandas as pd\n"
   ]
  },
  {
   "cell_type": "code",
   "execution_count": 18,
   "metadata": {},
   "outputs": [
    {
     "data": {
      "text/html": [
       "<style type=\"text/css\">\n",
       "</style>\n",
       "<table id=\"T_cea01\">\n",
       "  <thead>\n",
       "    <tr>\n",
       "      <th id=\"T_cea01_level0_col0\" class=\"col_heading level0 col0\" >Step</th>\n",
       "      <th id=\"T_cea01_level0_col1\" class=\"col_heading level0 col1\" >Yellow</th>\n",
       "      <th id=\"T_cea01_level0_col2\" class=\"col_heading level0 col2\" >White</th>\n",
       "      <th id=\"T_cea01_level0_col3\" class=\"col_heading level0 col3\" >Total</th>\n",
       "    </tr>\n",
       "  </thead>\n",
       "  <tbody>\n",
       "    <tr>\n",
       "      <td id=\"T_cea01_row0_col0\" class=\"data row0 col0\" >1</td>\n",
       "      <td id=\"T_cea01_row0_col1\" class=\"data row0 col1\" >1</td>\n",
       "      <td id=\"T_cea01_row0_col2\" class=\"data row0 col2\" >0</td>\n",
       "      <td id=\"T_cea01_row0_col3\" class=\"data row0 col3\" >1</td>\n",
       "    </tr>\n",
       "    <tr>\n",
       "      <td id=\"T_cea01_row1_col0\" class=\"data row1 col0\" >2</td>\n",
       "      <td id=\"T_cea01_row1_col1\" class=\"data row1 col1\" >3</td>\n",
       "      <td id=\"T_cea01_row1_col2\" class=\"data row1 col2\" >1</td>\n",
       "      <td id=\"T_cea01_row1_col3\" class=\"data row1 col3\" >4</td>\n",
       "    </tr>\n",
       "    <tr>\n",
       "      <td id=\"T_cea01_row2_col0\" class=\"data row2 col0\" >3</td>\n",
       "      <td id=\"T_cea01_row2_col1\" class=\"data row2 col1\" >9</td>\n",
       "      <td id=\"T_cea01_row2_col2\" class=\"data row2 col2\" >4</td>\n",
       "      <td id=\"T_cea01_row2_col3\" class=\"data row2 col3\" >13</td>\n",
       "    </tr>\n",
       "    <tr>\n",
       "      <td id=\"T_cea01_row3_col0\" class=\"data row3 col0\" >4</td>\n",
       "      <td id=\"T_cea01_row3_col1\" class=\"data row3 col1\" >27</td>\n",
       "      <td id=\"T_cea01_row3_col2\" class=\"data row3 col2\" >13</td>\n",
       "      <td id=\"T_cea01_row3_col3\" class=\"data row3 col3\" >40</td>\n",
       "    </tr>\n",
       "    <tr>\n",
       "      <td id=\"T_cea01_row4_col0\" class=\"data row4 col0\" >5</td>\n",
       "      <td id=\"T_cea01_row4_col1\" class=\"data row4 col1\" >81</td>\n",
       "      <td id=\"T_cea01_row4_col2\" class=\"data row4 col2\" >40</td>\n",
       "      <td id=\"T_cea01_row4_col3\" class=\"data row4 col3\" >121</td>\n",
       "    </tr>\n",
       "    <tr>\n",
       "      <td id=\"T_cea01_row5_col0\" class=\"data row5 col0\" >6</td>\n",
       "      <td id=\"T_cea01_row5_col1\" class=\"data row5 col1\" >243</td>\n",
       "      <td id=\"T_cea01_row5_col2\" class=\"data row5 col2\" >121</td>\n",
       "      <td id=\"T_cea01_row5_col3\" class=\"data row5 col3\" >364</td>\n",
       "    </tr>\n",
       "    <tr>\n",
       "      <td id=\"T_cea01_row6_col0\" class=\"data row6 col0\" >7</td>\n",
       "      <td id=\"T_cea01_row6_col1\" class=\"data row6 col1\" >729</td>\n",
       "      <td id=\"T_cea01_row6_col2\" class=\"data row6 col2\" >364</td>\n",
       "      <td id=\"T_cea01_row6_col3\" class=\"data row6 col3\" >1093</td>\n",
       "    </tr>\n",
       "    <tr>\n",
       "      <td id=\"T_cea01_row7_col0\" class=\"data row7 col0\" >8</td>\n",
       "      <td id=\"T_cea01_row7_col1\" class=\"data row7 col1\" >2187</td>\n",
       "      <td id=\"T_cea01_row7_col2\" class=\"data row7 col2\" >1093</td>\n",
       "      <td id=\"T_cea01_row7_col3\" class=\"data row7 col3\" >3280</td>\n",
       "    </tr>\n",
       "  </tbody>\n",
       "</table>\n"
      ],
      "text/plain": [
       "<pandas.io.formats.style.Styler at 0x7f9ad89da0b0>"
      ]
     },
     "execution_count": 18,
     "metadata": {},
     "output_type": "execute_result"
    }
   ],
   "source": [
    "result = pd.DataFrame([[1, 1, 0, 1]], columns=[\"Step\", \"Yellow\", \"White\", \"Total\"])\n",
    "\n",
    "FY_previous = 1\n",
    "FW_previous = 0\n",
    "\n",
    "for index in range(2, 9):\n",
    "    FY_current = FY_previous * 3\n",
    "    FW_current = FY_previous + FW_previous\n",
    "    FT_current = FY_current + FW_current\n",
    "    FY_previous = FY_current\n",
    "    FW_previous = FW_current\n",
    "    FT_previous = FT_current\n",
    "\n",
    "    result = pd.concat(\n",
    "        [\n",
    "            result,\n",
    "            pd.DataFrame(\n",
    "                [[index, FY_current, FW_current, FT_current]],\n",
    "                columns=[\"Step\", \"Yellow\", \"White\", \"Total\"],\n",
    "            ),\n",
    "        ],\n",
    "        ignore_index=True,\n",
    "    )\n",
    "\n",
    "result.style.hide(axis=\"index\")\n"
   ]
  },
  {
   "attachments": {},
   "cell_type": "markdown",
   "metadata": {},
   "source": [
    "## Problem #2\n",
    "\n",
    "Ten numbers. Ten numbers from 1 to 10 are written in a row. We can insert plus or minus signs between these numbers. After all of the signs have been placed, and all additions and subtractions are performed, we evaluate the result. Can we get 22? And 21? And 25? If it is possible, show how (give an example). If it is not, explain why."
   ]
  },
  {
   "attachments": {},
   "cell_type": "markdown",
   "metadata": {},
   "source": [
    "### Solution\n",
    "\n",
    "Lets encode pluses as 1 and minuses as 0.\n",
    "We can encode the combination 1+2+3+4+5+6+7+8+9-10 as \"1111111110\" (10 digits, 9 pluses, 1 minus)."
   ]
  },
  {
   "cell_type": "code",
   "execution_count": 38,
   "metadata": {},
   "outputs": [
    {
     "name": "stdout",
     "output_type": "stream",
     "text": [
      "combinations[i]='0000000000'\n",
      "combinations[i]='0000000001'\n",
      "combinations[i]='0000000010'\n",
      "combinations[i]='0000000011'\n",
      "combinations[i]='0000000100'\n",
      "combinations[i]='0000000101'\n",
      "combinations[i]='0000000110'\n",
      "combinations[i]='0000000111'\n",
      "combinations[i]='0000001000'\n",
      "combinations[i]='0000001001'\n"
     ]
    }
   ],
   "source": [
    "import itertools\n",
    "\n",
    "base_string = '01'\n",
    "combinations = [''.join(p) for p in itertools.product(base_string, repeat=10)]\n",
    "\n",
    "for i in range(0, 10):\n",
    "    print(f\"{combinations[i]=}\")\n",
    "\n"
   ]
  },
  {
   "cell_type": "code",
   "execution_count": 59,
   "metadata": {},
   "outputs": [
    {
     "name": "stdout",
     "output_type": "stream",
     "text": [
      "a_combination='1111111100'\n",
      "num='1' idx=0 tmp_result=1\n",
      "num='1' idx=1 tmp_result=3\n",
      "num='1' idx=2 tmp_result=6\n",
      "num='1' idx=3 tmp_result=10\n",
      "num='1' idx=4 tmp_result=15\n",
      "num='1' idx=5 tmp_result=21\n",
      "num='1' idx=6 tmp_result=28\n",
      "num='1' idx=7 tmp_result=36\n",
      "num='0' idx=8 tmp_result=27\n",
      "num='0' idx=9 tmp_result=17\n",
      "17: results[tmp_result]=['1111111100']\n",
      "a_combination='1111111101'\n",
      "num='1' idx=0 tmp_result=1\n",
      "num='1' idx=1 tmp_result=3\n",
      "num='1' idx=2 tmp_result=6\n",
      "num='1' idx=3 tmp_result=10\n",
      "num='1' idx=4 tmp_result=15\n",
      "num='1' idx=5 tmp_result=21\n",
      "num='1' idx=6 tmp_result=28\n",
      "num='1' idx=7 tmp_result=36\n",
      "num='0' idx=8 tmp_result=27\n",
      "num='1' idx=9 tmp_result=37\n",
      "37: results[tmp_result]=['1111111101']\n",
      "a_combination='1111111110'\n",
      "num='1' idx=0 tmp_result=1\n",
      "num='1' idx=1 tmp_result=3\n",
      "num='1' idx=2 tmp_result=6\n",
      "num='1' idx=3 tmp_result=10\n",
      "num='1' idx=4 tmp_result=15\n",
      "num='1' idx=5 tmp_result=21\n",
      "num='1' idx=6 tmp_result=28\n",
      "num='1' idx=7 tmp_result=36\n",
      "num='1' idx=8 tmp_result=45\n",
      "num='0' idx=9 tmp_result=35\n",
      "35: results[tmp_result]=['1111111110']\n",
      "a_combination='1111111111'\n",
      "num='1' idx=0 tmp_result=1\n",
      "num='1' idx=1 tmp_result=3\n",
      "num='1' idx=2 tmp_result=6\n",
      "num='1' idx=3 tmp_result=10\n",
      "num='1' idx=4 tmp_result=15\n",
      "num='1' idx=5 tmp_result=21\n",
      "num='1' idx=6 tmp_result=28\n",
      "num='1' idx=7 tmp_result=36\n",
      "num='1' idx=8 tmp_result=45\n",
      "num='1' idx=9 tmp_result=55\n",
      "55: results[tmp_result]=['1111111111']\n"
     ]
    }
   ],
   "source": [
    "results = {}\n",
    "\n",
    "for a_combination in combinations[-4:]:\n",
    "    print(f\"{a_combination=}\")\n",
    "    tmp_result = 0\n",
    "    for idx, num in enumerate(a_combination):\n",
    "        if num == '1':\n",
    "            tmp_result = tmp_result + idx + 1\n",
    "        else:\n",
    "            tmp_result = tmp_result - idx - 1\n",
    "\n",
    "        print(f\"{num=} {idx=} {tmp_result=}\")\n",
    "\n",
    "    if results.get(tmp_result):\n",
    "        results[tmp_result].append(a_combination)\n",
    "    else:\n",
    "        results[tmp_result] = [a_combination]\n",
    "\n",
    "    print(f\"{tmp_result}: {results[tmp_result]=}\")\n"
   ]
  },
  {
   "cell_type": "code",
   "execution_count": 62,
   "metadata": {},
   "outputs": [],
   "source": [
    "results = {}\n",
    "\n",
    "for a_combination in combinations:\n",
    "    tmp_result = 0\n",
    "    for idx, num in enumerate(a_combination):\n",
    "        if num == '1':\n",
    "            tmp_result = tmp_result + idx + 1\n",
    "        else:\n",
    "            tmp_result = tmp_result - idx - 1\n",
    "\n",
    "    if results.get(tmp_result):\n",
    "        results[tmp_result].append(a_combination)\n",
    "    else:\n",
    "        results[tmp_result] = [a_combination]"
   ]
  },
  {
   "cell_type": "code",
   "execution_count": 67,
   "metadata": {},
   "outputs": [
    {
     "name": "stdout",
     "output_type": "stream",
     "text": [
      "1: -1-2-3-4+5+6-7+8+9+10 = 21\n",
      "2: -1-2-3+4-5-6+7+8+9+10 = 21\n",
      "3: -1-2+3-4+5+6+7+8+9-10 = 21\n",
      "4: -1-2+3+4-5+6+7+8-9+10 = 21\n",
      "5: -1-2+3+4+5-6+7-8+9+10 = 21\n",
      "6: -1+2-3-4+5+6+7+8-9+10 = 21\n",
      "7: -1+2-3+4-5+6+7-8+9+10 = 21\n",
      "8: -1+2-3+4+5-6-7+8+9+10 = 21\n",
      "9: -1+2+3-4-5+6-7+8+9+10 = 21\n",
      "10: -1+2+3+4+5-6+7+8+9-10 = 21\n",
      "11: -1+2+3+4+5+6-7+8-9+10 = 21\n",
      "12: +1-2-3-4+5+6+7-8+9+10 = 21\n",
      "13: +1-2-3+4-5+6-7+8+9+10 = 21\n",
      "14: +1-2+3-4-5-6+7+8+9+10 = 21\n",
      "15: +1-2+3+4-5+6+7+8+9-10 = 21\n",
      "16: +1-2+3+4+5-6+7+8-9+10 = 21\n",
      "17: +1-2+3+4+5+6-7-8+9+10 = 21\n",
      "18: +1+2-3-4+5+6+7+8+9-10 = 21\n",
      "19: +1+2-3+4-5+6+7+8-9+10 = 21\n",
      "20: +1+2-3+4+5-6+7-8+9+10 = 21\n",
      "21: +1+2+3-4-5+6+7-8+9+10 = 21\n",
      "22: +1+2+3-4+5-6-7+8+9+10 = 21\n",
      "23: +1+2+3+4+5+6-7+8+9-10 = 21\n",
      "24: +1+2+3+4+5+6+7-8-9+10 = 21\n"
     ]
    }
   ],
   "source": [
    "for solution, a_combination in enumerate(results[21]):\n",
    "    tmp = []\n",
    "    for idx, num in enumerate(a_combination):\n",
    "        if num == '1':\n",
    "            tmp.append(f\"+{idx+1}\")\n",
    "        else:\n",
    "            tmp.append(f\"-{idx+1}\")\n",
    "    print(f\"{solution+1}: {''.join(tmp)} = 21\")"
   ]
  },
  {
   "cell_type": "code",
   "execution_count": 69,
   "metadata": {},
   "outputs": [
    {
     "name": "stdout",
     "output_type": "stream",
     "text": [
      "1: -1-2-3-4-5+6+7+8+9+10 = 25\n",
      "2: -1-2-3+4+5+6+7+8-9+10 = 25\n",
      "3: -1-2+3-4+5+6+7-8+9+10 = 25\n",
      "4: -1-2+3+4-5+6-7+8+9+10 = 25\n",
      "5: -1+2-3-4+5+6-7+8+9+10 = 25\n",
      "6: -1+2-3+4-5-6+7+8+9+10 = 25\n",
      "7: -1+2+3-4+5+6+7+8+9-10 = 25\n",
      "8: -1+2+3+4-5+6+7+8-9+10 = 25\n",
      "9: -1+2+3+4+5-6+7-8+9+10 = 25\n",
      "10: +1-2-3-4+5-6+7+8+9+10 = 25\n",
      "11: +1-2-3+4+5+6+7+8+9-10 = 25\n",
      "12: +1-2+3-4+5+6+7+8-9+10 = 25\n",
      "13: +1-2+3+4-5+6+7-8+9+10 = 25\n",
      "14: +1-2+3+4+5-6-7+8+9+10 = 25\n",
      "15: +1+2-3-4+5+6+7-8+9+10 = 25\n",
      "16: +1+2-3+4-5+6-7+8+9+10 = 25\n",
      "17: +1+2+3-4-5-6+7+8+9+10 = 25\n",
      "18: +1+2+3+4-5+6+7+8+9-10 = 25\n",
      "19: +1+2+3+4+5-6+7+8-9+10 = 25\n",
      "20: +1+2+3+4+5+6-7-8+9+10 = 25\n"
     ]
    }
   ],
   "source": [
    "for solution, a_combination in enumerate(results[25]):\n",
    "    tmp = []\n",
    "    for idx, num in enumerate(a_combination):\n",
    "        if num == '1':\n",
    "            tmp.append(f\"+{idx+1}\")\n",
    "        else:\n",
    "            tmp.append(f\"-{idx+1}\")\n",
    "    print(f\"{solution+1}: {''.join(tmp)} = 25\")"
   ]
  },
  {
   "cell_type": "code",
   "execution_count": 70,
   "metadata": {},
   "outputs": [
    {
     "ename": "KeyError",
     "evalue": "22",
     "output_type": "error",
     "traceback": [
      "\u001b[0;31m---------------------------------------------------------------------------\u001b[0m",
      "\u001b[0;31mKeyError\u001b[0m                                  Traceback (most recent call last)",
      "Cell \u001b[0;32mIn[70], line 1\u001b[0m\n\u001b[0;32m----> 1\u001b[0m results[\u001b[39m22\u001b[39;49m]\n",
      "\u001b[0;31mKeyError\u001b[0m: 22"
     ]
    }
   ],
   "source": [
    "results[22] # <-- Means that it does not exist!"
   ]
  }
 ],
 "metadata": {
  "kernelspec": {
   "display_name": "makemore",
   "language": "python",
   "name": "python3"
  },
  "language_info": {
   "codemirror_mode": {
    "name": "ipython",
    "version": 3
   },
   "file_extension": ".py",
   "mimetype": "text/x-python",
   "name": "python",
   "nbconvert_exporter": "python",
   "pygments_lexer": "ipython3",
   "version": "3.10.9"
  },
  "orig_nbformat": 4
 },
 "nbformat": 4,
 "nbformat_minor": 2
}
